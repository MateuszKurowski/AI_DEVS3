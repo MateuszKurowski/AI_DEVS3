{
 "cells": [
  {
   "cell_type": "code",
   "execution_count": 6,
   "metadata": {},
   "outputs": [],
   "source": [
    "from dotenv import load_dotenv\n",
    "import os\n",
    "import sys\n",
    "\n",
    "load_dotenv()\n",
    "ai_devs_key = os.getenv('ai_devs_key')\n"
   ]
  },
  {
   "cell_type": "code",
   "execution_count": 7,
   "metadata": {},
   "outputs": [
    {
     "name": "stdout",
     "output_type": "stream",
     "text": [
      "0c8a51ba6d_ba07432e43290984c171e24423a9b38e5d4455f1\n",
      "fd770a2a03_8db84654eb4bddab9ba353a5a104ee191f35b4e4\n",
      "\n"
     ]
    }
   ],
   "source": [
    "from utilities.GetTaks import get_task\n",
    "from utilities.SendTask import send_task\n",
    "\n",
    "response = get_task('dane.txt', 'https://poligon.aidevs.pl/')\n",
    "print(response.text)"
   ]
  },
  {
   "cell_type": "code",
   "execution_count": 8,
   "metadata": {},
   "outputs": [
    {
     "name": "stdout",
     "output_type": "stream",
     "text": [
      "['0c8a51ba6d_ba07432e43290984c171e24423a9b38e5d4455f1', 'fd770a2a03_8db84654eb4bddab9ba353a5a104ee191f35b4e4']\n"
     ]
    }
   ],
   "source": [
    "array = [item.strip() for item in response.text.split(\"\\n\") if item]\n",
    "print(array)"
   ]
  },
  {
   "cell_type": "code",
   "execution_count": 12,
   "metadata": {},
   "outputs": [
    {
     "name": "stdout",
     "output_type": "stream",
     "text": [
      "Dane: {\n",
      "    \"task\": \"POLIGON\",\n",
      "    \"apikey\": \"36c9f726-f256-4581-9a90-7742b9f2436c\",\n",
      "    \"answer\": [\n",
      "        \"0c8a51ba6d_ba07432e43290984c171e24423a9b38e5d4455f1\",\n",
      "        \"fd770a2a03_8db84654eb4bddab9ba353a5a104ee191f35b4e4\"\n",
      "    ]\n",
      "}\n",
      "\n",
      "--------------\n",
      "\n",
      "Status code: 200\n",
      "Odpowiedź serwera: {\n",
      "    \"code\": 0,\n",
      "    \"message\": \"Super. Wszystko OK!\"\n",
      "}\n"
     ]
    }
   ],
   "source": [
    "send_task(array, 'POLIGON', 'https://poligon.aidevs.pl/verify')"
   ]
  }
 ],
 "metadata": {
  "kernelspec": {
   "display_name": ".venv",
   "language": "python",
   "name": "python3"
  },
  "language_info": {
   "codemirror_mode": {
    "name": "ipython",
    "version": 3
   },
   "file_extension": ".py",
   "mimetype": "text/x-python",
   "name": "python",
   "nbconvert_exporter": "python",
   "pygments_lexer": "ipython3",
   "version": "3.11.4"
  }
 },
 "nbformat": 4,
 "nbformat_minor": 2
}
